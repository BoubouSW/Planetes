{
 "cells": [
  {
   "cell_type": "code",
   "execution_count": 5,
   "id": "e242130a",
   "metadata": {},
   "outputs": [
    {
     "data": {
      "text/html": [
       "<style  type=\"text/css\" >\n",
       "</style><table id=\"T_a022e_\" ><thead>    <tr>        <th class=\"blank level0\" ></th>        <th class=\"col_heading level0 col0\" >Vitesse (km/h)</th>        <th class=\"col_heading level0 col1\" >Rayon (km)</th>        <th class=\"col_heading level0 col2\" >Angle de départ (radian)</th>    </tr></thead><tbody>\n",
       "                <tr>\n",
       "                        <th id=\"T_a022e_level0_row0\" class=\"row_heading level0 row0\" >Terre</th>\n",
       "                        <td id=\"T_a022e_row0_col0\" class=\"data row0 col0\" >1.044e+06</td>\n",
       "                        <td id=\"T_a022e_row0_col1\" class=\"data row0 col1\" >1.500e+09</td>\n",
       "                        <td id=\"T_a022e_row0_col2\" class=\"data row0 col2\" >0.696000</td>\n",
       "            </tr>\n",
       "            <tr>\n",
       "                        <th id=\"T_a022e_level0_row1\" class=\"row_heading level0 row1\" >Mars</th>\n",
       "                        <td id=\"T_a022e_row1_col0\" class=\"data row1 col0\" >8.640e+05</td>\n",
       "                        <td id=\"T_a022e_row1_col1\" class=\"data row1 col1\" >2.280e+09</td>\n",
       "                        <td id=\"T_a022e_row1_col2\" class=\"data row1 col2\" >0.378947</td>\n",
       "            </tr>\n",
       "    </tbody></table>"
      ],
      "text/plain": [
       "<pandas.io.formats.style.Styler object at 0x7f89051fae80>"
      ]
     },
     "execution_count": 5,
     "metadata": {},
     "output_type": "execute_result"
    }
   ],
   "source": [
    "import numpy as np\n",
    "import pandas as pd\n",
    "planete = np.zeros((2,3))\n",
    "planete[0] = np.array([1044*10e2,150*10e6,0])\n",
    "planete[1] = np.array([864*10e2,228*10e6,0])\n",
    "for i in range(2):\n",
    "    planete[i,2] = 1000*planete[i,0]/planete[i,1]\n",
    "\n",
    "espace=pd.DataFrame(planete,index=[\"Terre\",\"Mars\"],columns=['Vitesse (km/h)','Rayon (km)','Angle de départ (radian)'])\n",
    "\n",
    "espace.style.format({\"Vitesse (km/h)\":\"{:.3e}\",\"Rayon (km)\":\"{:.3e}\"})"
   ]
  },
  {
   "cell_type": "code",
   "execution_count": 10,
   "id": "fe64a71e",
   "metadata": {},
   "outputs": [],
   "source": [
    "def position(t,p,col,i = 0):\n",
    "    return point2d((p[1]*cos(t*p[2]+i),p[1]*sin(t*p[2]+i)),size = 50,color = col)"
   ]
  },
  {
   "cell_type": "code",
   "execution_count": 13,
   "id": "92435bce",
   "metadata": {},
   "outputs": [],
   "source": [
    "def init(t):\n",
    "    S = position(t,planete[0],\"blue\",pi/2)\n",
    "    S += position(t,planete[1],\"red\")  \n",
    "    return S"
   ]
  },
  {
   "cell_type": "code",
   "execution_count": 29,
   "id": "54de3ac4",
   "metadata": {},
   "outputs": [],
   "source": [
    "def syst():\n",
    "    s = point2d((0,0), size = 1000, color ='yellow',axes = False)\n",
    "    for i in range(2):\n",
    "        s += circle((0,0),planete[i][1], color = 'black')\n",
    "    return s"
   ]
  },
  {
   "cell_type": "code",
   "execution_count": 26,
   "id": "d8ceafeb",
   "metadata": {},
   "outputs": [
    {
     "data": {
      "application/vnd.jupyter.widget-view+json": {
       "model_id": "60ae4b29758a41d5bfa8fa44be88b784",
       "version_major": 2,
       "version_minor": 0
      },
      "text/plain": [
       "Interactive function <function test at 0x7f88fb7b2940> with 1 widget\n",
       "  t: TransformIntSlider(value=14, descrip…"
      ]
     },
     "metadata": {},
     "output_type": "display_data"
    }
   ],
   "source": [
    "@interact\n",
    "def test(t = slider(14,25)):\n",
    "    return init(t) + syst()"
   ]
  },
  {
   "cell_type": "code",
   "execution_count": 48,
   "id": "76d5581f",
   "metadata": {},
   "outputs": [],
   "source": [
    "def sonde(t):\n",
    "    v = 27000\n",
    "    angle = #planete[0,2]\n",
    "    x = 10000*v*t*cos(angle)\n",
    "    y = 10000*v*t*sin(angle)\n",
    "    return point2d((x,y))"
   ]
  },
  {
   "cell_type": "code",
   "execution_count": 50,
   "id": "d39976ff",
   "metadata": {
    "scrolled": true
   },
   "outputs": [
    {
     "data": {
      "application/vnd.jupyter.widget-view+json": {
       "model_id": "629a6756e9444382adcb037a6947e253",
       "version_major": 2,
       "version_minor": 0
      },
      "text/plain": [
       "Interactive function <function test at 0x7f8903e92550> with 1 widget\n",
       "  t: TransformIntSlider(value=0, descript…"
      ]
     },
     "metadata": {},
     "output_type": "display_data"
    }
   ],
   "source": [
    "@interact\n",
    "def test(t = slider(0,25)):\n",
    "    return init(t) + syst() + sonde(t)"
   ]
  },
  {
   "cell_type": "code",
   "execution_count": 66,
   "id": "a08ba971",
   "metadata": {},
   "outputs": [],
   "source": [
    "f(x) = x**2"
   ]
  },
  {
   "cell_type": "code",
   "execution_count": 67,
   "id": "770a966a",
   "metadata": {},
   "outputs": [
    {
     "data": {
      "text/plain": [
       "x |--> binomial(x^2, x^2)"
      ]
     },
     "execution_count": 67,
     "metadata": {},
     "output_type": "execute_result"
    }
   ],
   "source": [
    "f.binomial(f,2)"
   ]
  },
  {
   "cell_type": "code",
   "execution_count": null,
   "id": "9a05b737",
   "metadata": {},
   "outputs": [],
   "source": []
  }
 ],
 "metadata": {
  "kernelspec": {
   "display_name": "SageMath 9.2",
   "language": "sage",
   "name": "sagemath"
  },
  "language_info": {
   "codemirror_mode": {
    "name": "ipython",
    "version": 3
   },
   "file_extension": ".py",
   "mimetype": "text/x-python",
   "name": "python",
   "nbconvert_exporter": "python",
   "pygments_lexer": "ipython3",
   "version": "3.8.8"
  }
 },
 "nbformat": 4,
 "nbformat_minor": 5
}
